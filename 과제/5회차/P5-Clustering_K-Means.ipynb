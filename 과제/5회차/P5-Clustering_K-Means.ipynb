{
 "cells": [
  {
   "cell_type": "markdown",
   "metadata": {},
   "source": [
    "# [SWCON253] Machine Learning\n",
    "Teaching Assistant: Yeongwoong Kim (duddnd7575@khu.ac.kr)\n",
    "\n",
    "Professor: Jinwoo Choi (jinwoochoi@khu.ac.kr)"
   ]
  },
  {
   "cell_type": "markdown",
   "metadata": {},
   "source": [
    "---"
   ]
  },
  {
   "cell_type": "markdown",
   "metadata": {},
   "source": [
    "# P5.A: 직접 구현해보는 K-Means 군집화 (5점)\n",
    "\n",
    "### 학습목표\n",
    "- K-Means 모델을 직접 구현하면서 이해할 수 있다.\n",
    "\n",
    "### 실습내용\n",
    "K-Means 모델을 직접 구현합니다. \n",
    "\n",
    "실습은 다음 순서로 진행됩니다.\n",
    "- 1) 데이터셋 loading\n",
    "- 2) 모델 구현, 학습 **<직접 구현>**\n",
    "- 3) Discussion\n",
    "\n",
    "**이번 실습에서 여러분은 `2)` 부분의 코드를 직접 작성합니다.**\n",
    "\n",
    "### 점수\n",
    "- 모델 구현 학습: 5점\n",
    "\n",
    "`.ipynb 파일과 함께 .html 파일 (File -> export as -> HTML)도 함께 제출하세요. 하나만 제출할시 감점이 있습니다.`"
   ]
  },
  {
   "cell_type": "markdown",
   "metadata": {},
   "source": [
    "## Imports"
   ]
  },
  {
   "cell_type": "code",
   "execution_count": null,
   "metadata": {},
   "outputs": [],
   "source": [
    "from sklearn import datasets\n",
    "import pandas as pd\n",
    "import numpy as np\n",
    "import math\n",
    "import scipy as sp\n",
    "import seaborn as sns\n",
    "import matplotlib.pyplot as plt\n",
    "%matplotlib inline"
   ]
  },
  {
   "cell_type": "markdown",
   "metadata": {},
   "source": [
    "## 1) Loading the Dataset\n",
    "Blobs dataset을 생성합니다.\n",
    "\n",
    "Scikit-learn에서는 클러스터링 모델 학습을 위한 클러스터 데이터를 생성할 수 있습니다.\n",
    "`datasets.make_blobs`함수를 이용하여 총 4개의 클러스터를 갖는 데이터셋을 만들어보겠습니다."
   ]
  },
  {
   "cell_type": "code",
   "execution_count": null,
   "metadata": {},
   "outputs": [],
   "source": [
    "X, Y = datasets.make_blobs(n_samples=100, centers=3, cluster_std=1.2, n_features=2, random_state=10)  # make dataset\n",
    "\n",
    "points = pd.DataFrame(X, Y).reset_index(drop=True)\n",
    "points.columns = [\"x\", \"y\"]\n",
    "points.head()"
   ]
  },
  {
   "cell_type": "markdown",
   "metadata": {},
   "source": [
    "### Dataset Visualization\n",
    "데이터셋이 어떤 분포로 생겼는지 시각화하여 살펴봅니다.\n",
    "데이터셋을 생성할 때 `centers`를 3으로 했기 때문에 3개의 군집이 생긴것을 확인 할 수 있습니다."
   ]
  },
  {
   "cell_type": "code",
   "execution_count": null,
   "metadata": {},
   "outputs": [],
   "source": [
    "# 데이터셋 plot\n",
    "sns.scatterplot(x=\"x\", y=\"y\", data=points, palette=\"Set2\")"
   ]
  },
  {
   "cell_type": "markdown",
   "metadata": {},
   "source": [
    "## 2) 모델 구현, 학습\n",
    "K-Means모델을 직접 학습해보고 이해해봅니다.\n",
    "\n",
    "K-Means 모델은 클러스터링중 가장 널리 사용되고 있는 모델입니다. K개의 클러스터를 설정하면 EM알고리즘에의해 클러스터의 중심값을 평균값으로 업데이트 해 나아가면서 최적의 해를 찾게됩니다."
   ]
  },
  {
   "cell_type": "markdown",
   "metadata": {},
   "source": [
    "Kmeans 학습은 다음과정을 통해 학습됩니다.\n",
    "\n",
    "![](https://upload.wikimedia.org/wikipedia/commons/thumb/5/5e/K_Means_Example_Step_1.svg/124px-K_Means_Example_Step_1.svg.png)\n",
    "\n",
    "1) 클러스러 평균값을 랜덤으로 초기화하여 지정합니다.\n",
    "\n",
    "![](https://upload.wikimedia.org/wikipedia/commons/thumb/a/a5/K_Means_Example_Step_2.svg/139px-K_Means_Example_Step_2.svg.png)\n",
    "\n",
    "2) 각 데이터 샘플들은 가장 가까이 있는 평균값을 기준으로 묶습니다. 평균값을 기준으로 분할된 영역은 보로노이 다이어그램으로 표시할수 있습니다. 이 과정이 EM알고리즘에서 Estimation 과정입니다.\n",
    "\n",
    "![](https://upload.wikimedia.org/wikipedia/commons/thumb/3/3e/K_Means_Example_Step_3.svg/139px-K_Means_Example_Step_3.svg.png)\n",
    "\n",
    "3) K개의 클러스터의 중심값을 기준으로 평균값을 업데이트합니다. 이 과정이 Maximization 과정입니다.\n",
    "\n",
    "![](https://upload.wikimedia.org/wikipedia/commons/thumb/d/d2/K_Means_Example_Step_4.svg/139px-K_Means_Example_Step_4.svg.png)\n",
    "\n",
    "4) 수렴할때까지 2), 3) 과정을 반복합니다.\n",
    "\n",
    "이제부터 K-Means 알고리즘을 직접 구현해봅니다."
   ]
  },
  {
   "cell_type": "markdown",
   "metadata": {},
   "source": [
    "### Step 1.\n",
    "K-Means알고리즘은 미리 클러스터 갯수인 K값을 지정해야합니다. 적당한 K 값을 지정하세요.\n",
    "지정한 값에 맞춰서 초기 중심점을 샘플에서 랜덤으로 선택합니다."
   ]
  },
  {
   "cell_type": "code",
   "execution_count": null,
   "metadata": {},
   "outputs": [],
   "source": [
    "def initialization_kmeans(K, random_state=15):\n",
    "    # select random initial centroid\n",
    "    centroids = points.sample(K, random_state=random_state)\n",
    "    return centroids\n",
    "\n",
    "\n",
    "K = # <your code> define number of clusters\n",
    "centroids = initialization_kmeans(K)\n",
    "\n",
    "# visualization\n",
    "plt.scatter(points['x'], points['y'])\n",
    "plt.scatter(centroids['x'], centroids['y'])\n",
    "plt.show()"
   ]
  },
  {
   "cell_type": "markdown",
   "metadata": {},
   "source": [
    "### Step 2.\n",
    "모든 샘플에서 각 중심점으로부터의 거리를 구하고 가장 가까운거리의 클러스터로 해당 샘플을 할당합니다."
   ]
  },
  {
   "cell_type": "code",
   "execution_count": null,
   "metadata": {},
   "outputs": [],
   "source": [
    "def assign_cluster(points, centroids):\n",
    "    # caclulate distance with points and centroids.\n",
    "    distance = sp.spatial.distance.cdist(points[[\"x\", \"y\"]], centroids, \"euclidean\")\n",
    "\n",
    "    # assigned to the cluster of the center point with the shortest distance\n",
    "    cluster_num = np.argmin(distance,axis=1)\n",
    "\n",
    "    result = points.copy()\n",
    "    result[\"cluster\"] = np.array(cluster_num)\n",
    "    return result\n",
    "\n",
    "\n",
    "def show_clusters(points, centroids, K, title=\"\"):\n",
    "    for i in range(K):\n",
    "        sampels = points.loc[points.cluster == i]\n",
    "        plt.scatter(sampels['x'], sampels['y'])\n",
    "    plt.scatter(centroids['x'], centroids['y'])\n",
    "    plt.title(title)\n",
    "    plt.show()\n",
    "\n",
    "\n",
    "result = assign_cluster(points, centroids)\n",
    "show_clusters(result, centroids, K, title=\"Assign cluster\")"
   ]
  },
  {
   "cell_type": "markdown",
   "metadata": {},
   "source": [
    "### Step 3.\n",
    "클러스터의 평균값으로 중심점을 업데이트합니다."
   ]
  },
  {
   "cell_type": "code",
   "execution_count": null,
   "metadata": {},
   "outputs": [],
   "source": [
    "def update_centroids(result):\n",
    "    centroids = result.groupby(\"cluster\").mean()\n",
    "    return centroids\n",
    "\n",
    "centroids = update_centroids(result)\n",
    "show_clusters(result, centroids, K)"
   ]
  },
  {
   "cell_type": "markdown",
   "metadata": {},
   "source": [
    "### Step 4. \n",
    "수렴 할 때 까지 step 2. step 3.을 반복합니다.\n",
    "\n",
    "> 위에서 정의한 코드를 사용하여 아래 `<your code>` 부분을 완성하세요."
   ]
  },
  {
   "cell_type": "code",
   "execution_count": null,
   "metadata": {},
   "outputs": [],
   "source": [
    "def kmeans(points, K, max_iter=3, random_state=15):\n",
    "    # step 1.\n",
    "    centroids = # <your code> assign sample to cluster. Use defined function.\n",
    "\n",
    "    for i in range(max_iter):\n",
    "        # step 2.\n",
    "        result = # <your code> assign sample to cluster. Use defined function.\n",
    "        show_clusters(result, centroids, K, title=f\"[{i+1}] Assign Cluster\")\n",
    "\n",
    "        # step 3.\n",
    "        centroids = # <your code> update centroids. Use defined function.\n",
    "        show_clusters(result, centroids, K, title=f\"[{i+1}] Update Centroid\")\n",
    "\n",
    "    return points, centroids\n",
    "\n",
    "K = # <your code> set number of Clusters\n",
    "random_state = 15 \n",
    "points, centroids = kmeans(points, K, random_state=random_state)\n"
   ]
  },
  {
   "cell_type": "markdown",
   "metadata": {},
   "source": [
    "## 3) Discussion\n",
    "\n",
    "**1) random state를 다르게 변화하여 돌려보고 나타나는 문제에 대해서 설명해보세요.**"
   ]
  },
  {
   "cell_type": "markdown",
   "metadata": {},
   "source": [
    "[답변작성]"
   ]
  },
  {
   "cell_type": "markdown",
   "metadata": {},
   "source": [
    "**2) 문제 1번에서 나타난 문제를 해결할 수 있는 방안은 무엇이 있나요?**"
   ]
  },
  {
   "cell_type": "markdown",
   "metadata": {},
   "source": [
    "[답변작성]"
   ]
  },
  {
   "cell_type": "markdown",
   "metadata": {},
   "source": [
    "---"
   ]
  },
  {
   "cell_type": "markdown",
   "metadata": {},
   "source": [
    "# P5.B:  scikit-learn을 이용한 클러스터링 (5점)\n",
    "\n",
    "### 학습목표\n",
    "- KMeans 모델을 이용하여 Iris 데이터를 군집화 할 수 있다.\n",
    "- Scikit-Learn을 이용하여 모델 학습, 검증 과정을 구현할 수 있다.\n",
    "\n",
    "### 실습내용\n",
    "Scikit-Learn의 KMeans를 이용하여 군집화를 학습해 봅니다. K-Means 사용법은 아래 링크를 참고하세요.  \n",
    "https://scikit-learn.org/stable/modules/generated/sklearn.cluster.KMeans.html\n",
    "\n",
    "실습은 다음 순서로 진행됩니다.\n",
    "- 1) 데이터셋 loading\n",
    "- 2) KMeans 모델 구현, 학습, 검증, Decision Boundary 시각화 **<직접 구현>**\n",
    "- 3) Discussion\n",
    "\n",
    "**이번 실습에서 여러분은 `2) KMeans 모델 구현, 학습, 검증, Decision Boundary 시각화` 부분의 코드를 직접 작성합니다.**\n",
    "\n",
    "앞으로 대부분의 실습도 위와 같은 순서로 진행됩니다. 이번 실습을 통해 각 부분의 코드를 이해하고 다음 실습에 참고하도록합니다.\n",
    "\n",
    "\n",
    "### 점수\n",
    "- `<your code>` 부분 각 1점 (총 3점)\n",
    "- Discussion 부분 2점\n",
    "\n",
    "`.ipynb 파일과 함께 .html 파일 (File -> export as -> HTML)도 함께 제출하세요. 하나만 제출할시 감점이 있습니다.`"
   ]
  },
  {
   "cell_type": "code",
   "execution_count": null,
   "metadata": {},
   "outputs": [],
   "source": [
    "from sklearn.cluster import KMeans\n",
    "from sklearn.model_selection import train_test_split\n",
    "import numpy as np\n",
    "import matplotlib.pyplot as plt\n",
    "%matplotlib inline"
   ]
  },
  {
   "cell_type": "markdown",
   "metadata": {},
   "source": [
    "## 1) 데이터셋 loading\n",
    "P3 실습에서 사용하였던 IRIS 데이터를 사용합니다."
   ]
  },
  {
   "cell_type": "code",
   "execution_count": null,
   "metadata": {},
   "outputs": [],
   "source": [
    "iris = datasets.load_iris()\n",
    "X = iris.data[:, 2:4]  # we only take the first two features.\n",
    "y = iris.target\n",
    "\n",
    "X_train, X_test, y_train, y_test = # <your code> split dataset into trainset and testset with `train_test_split` function\n",
    "\n",
    "# 데이터셋 plot\n",
    "plt.scatter([i[0] for idx, i in enumerate(X_train) if y_train[idx] == 0], \n",
    "            [i[1] for idx, i in enumerate(X_train) if y_train[idx] == 0],\n",
    "            marker='o')\n",
    "\n",
    "plt.scatter([i[0] for idx, i in enumerate(X_train) if y_train[idx] == 1], \n",
    "            [i[1] for idx, i in enumerate(X_train) if y_train[idx] == 1],\n",
    "            marker='s')\n",
    "\n",
    "plt.scatter([i[0] for idx, i in enumerate(X_train) if y_train[idx] == 2], \n",
    "            [i[1] for idx, i in enumerate(X_train) if y_train[idx] == 2],\n",
    "            marker='d')\n",
    "plt.show()"
   ]
  },
  {
   "cell_type": "markdown",
   "metadata": {},
   "source": [
    "## 2) K-Means 모델 구현, 학습\n",
    "\n",
    "Scikit-learn의 K-Means모델을 이용하여 위 데이터셋을 군집화해 봅니다."
   ]
  },
  {
   "cell_type": "code",
   "execution_count": null,
   "metadata": {},
   "outputs": [],
   "source": [
    "# 기존의 선형 커널로 분류를 시도해 봅니다.\n",
    "kmeans = # <your code> define number of clusters\n",
    "         # <your code> training with train dataset"
   ]
  },
  {
   "cell_type": "code",
   "execution_count": null,
   "metadata": {},
   "outputs": [],
   "source": [
    "### 데이터셋에서 Decision Boundary 시각화\n",
    "x1_min, x1_max = X[:, 0].min() - 1, X[:, 0].max() + 1\n",
    "x2_min, x2_max = X[:, 1].min() - 1, X[:, 1].max() + 1\n",
    "xx1, xx2 = np.meshgrid(np.arange(x1_min, x1_max, 0.02),\n",
    "                       np.arange(x2_min, x2_max, 0.02))\n",
    "Z = kmeans.predict(np.array([xx1.ravel(), xx2.ravel()]).T)\n",
    "Z = Z.reshape(xx1.shape)\n",
    "plt.contourf(xx1, xx2, Z, alpha=0.3)\n",
    "\n",
    "# 그래프로 표현\n",
    "plt.scatter([i[0] for idx, i in enumerate(X) if y[idx] == 0], \n",
    "            [i[1] for idx, i in enumerate(X) if y[idx] == 0],\n",
    "            label='class 0', marker='x')\n",
    "plt.scatter([i[0] for idx, i in enumerate(X) if y[idx] == 1], \n",
    "            [i[1] for idx, i in enumerate(X) if y[idx] == 1],\n",
    "            label='class 1', marker='s')\n",
    "plt.scatter([i[0] for idx, i in enumerate(X) if y[idx] == 2], \n",
    "            [i[1] for idx, i in enumerate(X) if y[idx] == 2],\n",
    "            label='class 2', marker='d')\n",
    "## testset 강조\n",
    "plt.scatter([i[0] for idx, i in enumerate(X_test)],\n",
    "            [i[1] for idx, i in enumerate(X_test)],\n",
    "            label='test', facecolors='none', edgecolor='black', s=100, marker='o')\n",
    "\n",
    "# 그래프로 표현\n",
    "plt.title('Dataset')\n",
    "plt.xlabel('feature 1')\n",
    "plt.ylabel('feature 2')\n",
    "plt.legend()\n",
    "plt.show()"
   ]
  },
  {
   "cell_type": "markdown",
   "metadata": {},
   "source": [
    "## 3) Discussion"
   ]
  },
  {
   "cell_type": "markdown",
   "metadata": {},
   "source": [
    "**1) KMeans로 풀리지 않는 문제는 어떤것이 있나요?**"
   ]
  },
  {
   "cell_type": "markdown",
   "metadata": {},
   "source": [
    "[답변작성]"
   ]
  },
  {
   "cell_type": "markdown",
   "metadata": {},
   "source": [
    "**2) KMeans로 풀리지 않는 문제의 경우 어떤 알고리즘을 사용하면 되나요?**"
   ]
  },
  {
   "cell_type": "markdown",
   "metadata": {},
   "source": [
    "[답변작성]"
   ]
  },
  {
   "cell_type": "markdown",
   "metadata": {},
   "source": [
    "**3) KMeans의 장단점에 대해 설명하세요**"
   ]
  },
  {
   "cell_type": "markdown",
   "metadata": {},
   "source": [
    "[답변작성]"
   ]
  }
 ],
 "metadata": {
  "kernelspec": {
   "display_name": "Python 3 (ipykernel)",
   "language": "python",
   "name": "python3"
  },
  "language_info": {
   "codemirror_mode": {
    "name": "ipython",
    "version": 3
   },
   "file_extension": ".py",
   "mimetype": "text/x-python",
   "name": "python",
   "nbconvert_exporter": "python",
   "pygments_lexer": "ipython3",
   "version": "3.8.0"
  }
 },
 "nbformat": 4,
 "nbformat_minor": 4
}
